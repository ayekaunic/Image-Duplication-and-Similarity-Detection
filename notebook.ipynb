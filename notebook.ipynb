{
 "cells": [
  {
   "cell_type": "markdown",
   "metadata": {},
   "source": [
    "# Duplicates"
   ]
  },
  {
   "cell_type": "markdown",
   "metadata": {},
   "source": [
    "### Imports"
   ]
  },
  {
   "cell_type": "code",
   "execution_count": 86,
   "metadata": {},
   "outputs": [],
   "source": [
    "from PIL import Image\n",
    "import imagehash\n",
    "import os\n",
    "import pandas as pd\n",
    "from tqdm import tqdm"
   ]
  },
  {
   "cell_type": "markdown",
   "metadata": {},
   "source": [
    "### Functions"
   ]
  },
  {
   "cell_type": "code",
   "execution_count": 87,
   "metadata": {},
   "outputs": [],
   "source": [
    "def compute_hash(image_path):\n",
    "    img = Image.open(image_path).convert('L')\n",
    "    hash_value = str(imagehash.average_hash(img))\n",
    "    return hash_value\n",
    "\n",
    "def find_duplicate_images(images_directory):\n",
    "    image_files = [f for f in os.listdir(images_directory) if f.endswith(('.png', '.jpg', '.jpeg', '.gif', '.bmp'))]\n",
    "    num_files = len(image_files)\n",
    "\n",
    "    duplicates_matrix = pd.DataFrame(index=image_files, columns=image_files).fillna(' ')\n",
    "\n",
    "    for i in tqdm(range(num_files), desc=\"Finding Duplicates\"):\n",
    "        for j in range(i + 1, num_files):\n",
    "            file1 = image_files[i]\n",
    "            file2 = image_files[j]\n",
    "\n",
    "            hash1 = compute_hash(os.path.join(images_directory, file1))\n",
    "            hash2 = compute_hash(os.path.join(images_directory, file2))\n",
    "\n",
    "            if hash1 == hash2:\n",
    "                duplicates_matrix.at[file1, file2] = 'Duplicates'\n",
    "                duplicates_matrix.at[file2, file1] = 'Duplicates'\n",
    "\n",
    "    duplicates_matrix.to_csv('duplicates.csv')"
   ]
  },
  {
   "cell_type": "markdown",
   "metadata": {},
   "source": [
    "### Generating Report"
   ]
  },
  {
   "cell_type": "code",
   "execution_count": 88,
   "metadata": {},
   "outputs": [
    {
     "name": "stderr",
     "output_type": "stream",
     "text": [
      "Finding Duplicates: 100%|██████████| 19/19 [00:08<00:00,  2.22it/s]\n"
     ]
    }
   ],
   "source": [
    "find_duplicate_images(\"./images/\")"
   ]
  },
  {
   "cell_type": "markdown",
   "metadata": {},
   "source": [
    "# Similar Images"
   ]
  },
  {
   "cell_type": "markdown",
   "metadata": {},
   "source": [
    "### Imports"
   ]
  },
  {
   "cell_type": "code",
   "execution_count": 89,
   "metadata": {},
   "outputs": [],
   "source": [
    "import os\n",
    "import pandas as pd\n",
    "import numpy as np \n",
    "from PIL import Image\n",
    "from tqdm import tqdm\n",
    "from tensorflow.keras.preprocessing import image\n",
    "from keras.applications.vgg16 import VGG16\n",
    "from sklearn.metrics.pairwise import cosine_similarity"
   ]
  },
  {
   "cell_type": "markdown",
   "metadata": {},
   "source": [
    "### Model"
   ]
  },
  {
   "cell_type": "code",
   "execution_count": 90,
   "metadata": {},
   "outputs": [],
   "source": [
    "vgg16 = VGG16(weights='imagenet', include_top=False, \n",
    "              pooling='max', input_shape=(224, 224, 3))\n",
    "\n",
    "for model_layer in vgg16.layers:\n",
    "  model_layer.trainable = False"
   ]
  },
  {
   "cell_type": "markdown",
   "metadata": {},
   "source": [
    "### Functions"
   ]
  },
  {
   "cell_type": "code",
   "execution_count": 91,
   "metadata": {},
   "outputs": [],
   "source": [
    "def load_image(image_path):\n",
    "\n",
    "    input_image = Image.open(image_path)\n",
    "    resized_image = input_image.resize((224, 224))\n",
    "\n",
    "    return resized_image\n",
    "\n",
    "def get_image_embeddings(object_image : image):\n",
    "\n",
    "    image_array = np.expand_dims(image.img_to_array(object_image), axis = 0)\n",
    "    image_embedding = vgg16.predict(image_array, verbose=0)\n",
    "\n",
    "    return image_embedding\n",
    "\n",
    "def get_similarity_score(first_image_embedding, second_image_embedding):\n",
    "\n",
    "    similarity_score = cosine_similarity(first_image_embedding, second_image_embedding).reshape(1,)\n",
    "    return similarity_score\n",
    "\n",
    "def find_similar_images(images_directory):\n",
    "    image_files = [f for f in os.listdir(images_directory) if f.lower().endswith(('.png', '.jpg', '.jpeg', '.gif', '.bmp'))]\n",
    "\n",
    "    similarity_matrix = pd.DataFrame(index=image_files, columns=image_files)\n",
    "    image_embeddings = {}\n",
    "\n",
    "    for file in tqdm(image_files, desc=\"Calculating Embeddings\"):\n",
    "        image_path = os.path.join(images_directory, file)\n",
    "        img = load_image(image_path)\n",
    "        img_embedding = get_image_embeddings(img)\n",
    "        image_embeddings[file] = img_embedding\n",
    "\n",
    "    for file1 in tqdm(image_files, desc=\"Calculating Similarity\"):\n",
    "        for file2 in image_files:\n",
    "            if file1 == file2:\n",
    "                similarity = 0\n",
    "            else:\n",
    "                img_embedding1 = image_embeddings[file1]\n",
    "                img_embedding2 = image_embeddings[file2]\n",
    "                similarity = get_similarity_score(img_embedding1, img_embedding2)[0]\n",
    "                similarity = round(similarity, 3)\n",
    "\n",
    "            similarity_matrix.at[file1, file2] = similarity\n",
    "\n",
    "    similarity_matrix.to_csv(\"similarity.csv\", index=True)"
   ]
  },
  {
   "cell_type": "markdown",
   "metadata": {},
   "source": [
    "### Generating Report"
   ]
  },
  {
   "cell_type": "code",
   "execution_count": 92,
   "metadata": {},
   "outputs": [
    {
     "name": "stderr",
     "output_type": "stream",
     "text": [
      "Calculating Embeddings: 100%|██████████| 19/19 [00:09<00:00,  2.09it/s]\n",
      "Calculating Similarity: 100%|██████████| 19/19 [00:00<00:00, 104.95it/s]\n"
     ]
    }
   ],
   "source": [
    "find_similar_images(\"./images/\")"
   ]
  }
 ],
 "metadata": {
  "kernelspec": {
   "display_name": "Python 3",
   "language": "python",
   "name": "python3"
  },
  "language_info": {
   "codemirror_mode": {
    "name": "ipython",
    "version": 3
   },
   "file_extension": ".py",
   "mimetype": "text/x-python",
   "name": "python",
   "nbconvert_exporter": "python",
   "pygments_lexer": "ipython3",
   "version": "3.11.4"
  }
 },
 "nbformat": 4,
 "nbformat_minor": 2
}
