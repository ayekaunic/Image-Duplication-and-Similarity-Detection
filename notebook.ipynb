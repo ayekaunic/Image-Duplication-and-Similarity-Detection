{
 "cells": [
  {
   "cell_type": "markdown",
   "metadata": {},
   "source": [
    "# Duplicates"
   ]
  },
  {
   "cell_type": "markdown",
   "metadata": {},
   "source": [
    "### Imports"
   ]
  },
  {
   "cell_type": "code",
   "execution_count": null,
   "metadata": {},
   "outputs": [],
   "source": [
    "from PIL import Image\n",
    "import imagehash\n",
    "import os\n",
    "import pandas as pd"
   ]
  },
  {
   "cell_type": "markdown",
   "metadata": {},
   "source": [
    "### Functions"
   ]
  },
  {
   "cell_type": "code",
   "execution_count": null,
   "metadata": {},
   "outputs": [],
   "source": [
    "def compute_hash(image_path):\n",
    "    img = Image.open(image_path).convert('L')\n",
    "    hash_value = str(imagehash.average_hash(img))\n",
    "    return hash_value\n",
    "\n",
    "def find_duplicate_images(images_directory):\n",
    "    image_files = [f for f in os.listdir(images_directory) if f.endswith(('.jpg', '.jpeg', '.png'))]\n",
    "    num_files = len(image_files)\n",
    "\n",
    "    duplicates_matrix = pd.DataFrame(index=image_files, columns=image_files).fillna('_')\n",
    "\n",
    "    for i in tqdm(range(num_files), desc=\"Finding Duplicates\"):\n",
    "        for j in range(i + 1, num_files):\n",
    "            file1 = image_files[i]\n",
    "            file2 = image_files[j]\n",
    "\n",
    "            hash1 = compute_hash(os.path.join(images_directory, file1))\n",
    "            hash2 = compute_hash(os.path.join(images_directory, file2))\n",
    "\n",
    "            if hash1 == hash2:\n",
    "                duplicates_matrix.at[file1, file2] = 'Duplicates'\n",
    "                duplicates_matrix.at[file2, file1] = 'Duplicates'\n",
    "\n",
    "    duplicates_matrix.to_csv('duplicates.csv')"
   ]
  },
  {
   "cell_type": "markdown",
   "metadata": {},
   "source": [
    "### Generating Report"
   ]
  },
  {
   "cell_type": "code",
   "execution_count": null,
   "metadata": {},
   "outputs": [],
   "source": [
    "find_duplicate_images(\"./images/\")"
   ]
  },
  {
   "cell_type": "markdown",
   "metadata": {},
   "source": [
    "# Similar Images"
   ]
  },
  {
   "cell_type": "markdown",
   "metadata": {},
   "source": [
    "### Imports"
   ]
  },
  {
   "cell_type": "code",
   "execution_count": null,
   "metadata": {},
   "outputs": [],
   "source": [
    "import os\n",
    "import pandas as pd\n",
    "from skimage import io, metrics\n",
    "from tqdm import tqdm"
   ]
  },
  {
   "cell_type": "markdown",
   "metadata": {},
   "source": [
    "### Functions"
   ]
  },
  {
   "cell_type": "code",
   "execution_count": null,
   "metadata": {},
   "outputs": [],
   "source": [
    "def calculate_similarity(image1, image2):\n",
    "    if image1.shape != image2.shape:\n",
    "        return 0\n",
    "    return metrics.structural_similarity(image1, image2, channel_axis=2)\n",
    "\n",
    "def find_similar_images(images_directory):\n",
    "    image_files = [f for f in os.listdir(images_directory) if f.lower().endswith(('.png', '.jpg', '.jpeg', '.gif', '.bmp'))]\n",
    "\n",
    "    similarity_matrix = pd.DataFrame(index=image_files, columns=image_files)\n",
    "\n",
    "    for file1 in tqdm(image_files, desc=\"Calculating Similarty\"):\n",
    "        for file2 in image_files:\n",
    "            if file1 == file2:\n",
    "                similarity = 0\n",
    "            else:\n",
    "                image1 = io.imread(os.path.join(images_directory, file1))\n",
    "                image2 = io.imread(os.path.join(images_directory, file2))\n",
    "                similarity = calculate_similarity(image1, image2)\n",
    "                similarity = round(similarity, 3)\n",
    "\n",
    "            similarity_matrix.at[file1, file2] = similarity\n",
    "\n",
    "    similarity_matrix.to_csv(\"similarity.csv\", index=True)"
   ]
  },
  {
   "cell_type": "markdown",
   "metadata": {},
   "source": [
    "### Generating Report"
   ]
  },
  {
   "cell_type": "code",
   "execution_count": null,
   "metadata": {},
   "outputs": [],
   "source": [
    "find_similar_images(\"./images/\")"
   ]
  }
 ],
 "metadata": {
  "kernelspec": {
   "display_name": "Python 3",
   "language": "python",
   "name": "python3"
  },
  "language_info": {
   "codemirror_mode": {
    "name": "ipython",
    "version": 3
   },
   "file_extension": ".py",
   "mimetype": "text/x-python",
   "name": "python",
   "nbconvert_exporter": "python",
   "pygments_lexer": "ipython3",
   "version": "3.11.4"
  }
 },
 "nbformat": 4,
 "nbformat_minor": 2
}
