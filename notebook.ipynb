{
 "cells": [
  {
   "cell_type": "code",
   "execution_count": 1,
   "metadata": {},
   "outputs": [],
   "source": [
    "from PIL import Image\n",
    "import imagehash"
   ]
  },
  {
   "cell_type": "code",
   "execution_count": 2,
   "metadata": {},
   "outputs": [],
   "source": [
    "def compute_hash(image_path):\n",
    "    # Open image and convert it to grayscale\n",
    "    img = Image.open(image_path).convert('L')\n",
    "    \n",
    "    # Compute hash\n",
    "    hash_value = imagehash.average_hash(img)\n",
    "    \n",
    "    return hash_value\n",
    "\n",
    "def find_duplicate_images(image_paths):\n",
    "    hash_dict = {}\n",
    "\n",
    "    for path in image_paths:\n",
    "        hash_value = compute_hash(path)\n",
    "\n",
    "        # Check if the hash is already in the dictionary\n",
    "        if hash_value in hash_dict:\n",
    "            print(f\"Duplicate found: {path} is a duplicate of {hash_dict[hash_value]}\")\n",
    "        else:\n",
    "            hash_dict[hash_value] = path"
   ]
  },
  {
   "cell_type": "code",
   "execution_count": 3,
   "metadata": {},
   "outputs": [
    {
     "name": "stdout",
     "output_type": "stream",
     "text": [
      "Duplicate found: ./images/(02).jpg is a duplicate of ./images/(01).jpg\n",
      "Duplicate found: ./images/(04).jpg is a duplicate of ./images/(03).jpg\n"
     ]
    }
   ],
   "source": [
    "image_paths = [\"./images/(01).jpg\", \"./images/(02).jpg\", \"./images/(03).jpg\", \"./images/(04).jpg\",]\n",
    "find_duplicate_images(image_paths)"
   ]
  }
 ],
 "metadata": {
  "kernelspec": {
   "display_name": "Python 3",
   "language": "python",
   "name": "python3"
  },
  "language_info": {
   "codemirror_mode": {
    "name": "ipython",
    "version": 3
   },
   "file_extension": ".py",
   "mimetype": "text/x-python",
   "name": "python",
   "nbconvert_exporter": "python",
   "pygments_lexer": "ipython3",
   "version": "3.11.4"
  }
 },
 "nbformat": 4,
 "nbformat_minor": 2
}
