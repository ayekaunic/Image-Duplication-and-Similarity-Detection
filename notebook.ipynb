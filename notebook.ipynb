{
 "cells": [
  {
   "cell_type": "markdown",
   "metadata": {},
   "source": [
    "# Imports"
   ]
  },
  {
   "cell_type": "code",
   "execution_count": null,
   "metadata": {},
   "outputs": [],
   "source": [
    "from PIL import Image\n",
    "import imagehash\n",
    "import os\n",
    "import pandas as pd"
   ]
  },
  {
   "cell_type": "markdown",
   "metadata": {},
   "source": [
    "# Functions"
   ]
  },
  {
   "cell_type": "code",
   "execution_count": null,
   "metadata": {},
   "outputs": [],
   "source": [
    "def compute_hash(image_path):\n",
    "    img = Image.open(image_path).convert('L')\n",
    "    hash_value = imagehash.average_hash(img)\n",
    "    return hash_value\n",
    "\n",
    "def find_duplicate_images(folder_path):\n",
    "    hash_dict = {}\n",
    "    \n",
    "    image_paths = [os.path.join(folder_path, file) for file in os.listdir(folder_path) if file.lower().endswith(('.png', '.jpg', '.jpeg'))]\n",
    "\n",
    "    data = {'File Name': [], 'Is Duplicate': [], 'Duplicate Of': []}\n",
    "\n",
    "    for path in image_paths:\n",
    "        hash_value = compute_hash(path)\n",
    "\n",
    "        if hash_value in hash_dict:\n",
    "            data['File Name'].append(os.path.basename(path))\n",
    "            data['Is Duplicate'].append('Yes')\n",
    "            data['Duplicate Of'].append(os.path.basename(hash_dict[hash_value]))\n",
    "        else:\n",
    "            hash_dict[hash_value] = path\n",
    "\n",
    "            data['File Name'].append(os.path.basename(path))\n",
    "            data['Is Duplicate'].append('No')\n",
    "            data['Duplicate Of'].append('')\n",
    "\n",
    "    df = pd.DataFrame(data)\n",
    "    df.to_csv(\"report.csv\", index=False)\n",
    "    print(\"Report generated.\")"
   ]
  },
  {
   "cell_type": "markdown",
   "metadata": {},
   "source": [
    "# Running"
   ]
  },
  {
   "cell_type": "code",
   "execution_count": null,
   "metadata": {},
   "outputs": [],
   "source": [
    "find_duplicate_images(\"./images/\")"
   ]
  }
 ],
 "metadata": {
  "kernelspec": {
   "display_name": "Python 3",
   "language": "python",
   "name": "python3"
  },
  "language_info": {
   "codemirror_mode": {
    "name": "ipython",
    "version": 3
   },
   "file_extension": ".py",
   "mimetype": "text/x-python",
   "name": "python",
   "nbconvert_exporter": "python",
   "pygments_lexer": "ipython3",
   "version": "3.11.4"
  }
 },
 "nbformat": 4,
 "nbformat_minor": 2
}
